{
 "cells": [
  {
   "cell_type": "code",
   "execution_count": null,
   "id": "caecbe0a",
   "metadata": {},
   "outputs": [],
   "source": [
    "# 구구단"
   ]
  },
  {
   "cell_type": "code",
   "execution_count": null,
   "id": "7501c7ac",
   "metadata": {},
   "outputs": [],
   "source": [
    "# 문제\n",
    "# N을 입력받은 뒤, 구구단 N단을 출력하는 프로그램을 작성하시오. 출력 형식에 맞춰서 출력하면 된다.\n",
    "\n",
    "# 입력\n",
    "# 첫째 줄에 N이 주어진다. N은 1보다 크거나 같고, 9보다 작거나 같다.\n",
    "\n",
    "# 출력\n",
    "# 출력형식과 같게 N*1부터 N*9까지 출력한다.\n",
    "\n",
    "# 예제 입력 1 \n",
    "# 2\n",
    "# 예제 출력 1 \n",
    "# 2 * 1 = 2\n",
    "# 2 * 2 = 4\n",
    "# 2 * 3 = 6\n",
    "# 2 * 4 = 8\n",
    "# 2 * 5 = 10\n",
    "# 2 * 6 = 12\n",
    "# 2 * 7 = 14\n",
    "# 2 * 8 = 16\n",
    "# 2 * 9 = 18"
   ]
  },
  {
   "cell_type": "code",
   "execution_count": null,
   "id": "54d5c06d",
   "metadata": {},
   "outputs": [
    {
     "name": "stdout",
     "output_type": "stream",
     "text": [
      "100 * 1 = 100\n",
      "100 * 2 = 200\n",
      "100 * 3 = 300\n",
      "100 * 4 = 400\n",
      "100 * 5 = 500\n",
      "100 * 6 = 600\n",
      "100 * 7 = 700\n",
      "100 * 8 = 800\n",
      "100 * 9 = 900\n"
     ]
    }
   ],
   "source": [
    "\n",
    "# 입력값 받기\n",
    "n = int(input())\n",
    "# i라는 변수를 1부터 9까지 1씩 증가시키며 반복 실행\n",
    "for i in range(1, 10):\n",
    "    # 입력받은 n에 순차적으로 1부터 9까지 곱해준다.\n",
    "    result = n * i\n",
    "    #포맷팅 기법 사용 구구단 출력해준다.\n",
    "    print(f\"{n} * {i} = {result}\")\n",
    "\n",
    "\n",
    "\n"
   ]
  },
  {
   "cell_type": "code",
   "execution_count": null,
   "id": "058e60f7",
   "metadata": {},
   "outputs": [],
   "source": []
  },
  {
   "cell_type": "code",
   "execution_count": null,
   "id": "8cde01b1",
   "metadata": {},
   "outputs": [],
   "source": []
  },
  {
   "cell_type": "code",
   "execution_count": null,
   "id": "6bf4aabb",
   "metadata": {},
   "outputs": [],
   "source": []
  },
  {
   "cell_type": "code",
   "execution_count": null,
   "id": "b3b5e464",
   "metadata": {},
   "outputs": [],
   "source": []
  },
  {
   "cell_type": "code",
   "execution_count": null,
   "id": "4d5e41ab",
   "metadata": {},
   "outputs": [],
   "source": []
  },
  {
   "cell_type": "code",
   "execution_count": null,
   "id": "c71e328b",
   "metadata": {},
   "outputs": [],
   "source": []
  }
 ],
 "metadata": {
  "kernelspec": {
   "display_name": "base",
   "language": "python",
   "name": "python3"
  },
  "language_info": {
   "codemirror_mode": {
    "name": "ipython",
    "version": 3
   },
   "file_extension": ".py",
   "mimetype": "text/x-python",
   "name": "python",
   "nbconvert_exporter": "python",
   "pygments_lexer": "ipython3",
   "version": "3.8.8"
  }
 },
 "nbformat": 4,
 "nbformat_minor": 5
}
